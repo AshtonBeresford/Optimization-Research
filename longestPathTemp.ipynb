{
 "cells": [
  {
   "cell_type": "markdown",
   "metadata": {},
   "source": [
    "#\\ - comments that should be delected at some point and should be looked into if they still remain in the code, possible represent future endeavors\n",
    "#comment - former or temp lines of code that are currently commented, either need to be deleted or uncommented to be used again at some point\n",
    "- #_comment - # comment - represents an actual comment that should stay in the code after finished, describes the code in some way or provides clarity\n"
   ]
  },
  {
   "cell_type": "code",
   "execution_count": 240,
   "metadata": {},
   "outputs": [],
   "source": [
    "#import statements\n",
    "import numpy as np\n",
    "import matplotlib.pyplot as plt\n",
    "import pandas as pd\n",
    "from pymoo.core.problem import ElementwiseProblem\n",
    "from pymoo.algorithms.soo.nonconvex.ga import GA\n",
    "from pymoo.optimize import minimize\n",
    "from pymoo.visualization.scatter import Scatter\n",
    "from pymoo.operators.sampling.rnd import IntegerRandomSampling\n",
    "from pymoo.optimize import minimize\n",
    "from pymoo.constraints.as_penalty import ConstraintsAsPenalty\n",
    "from pymoo.operators.crossover.sbx import SBX\n",
    "from pymoo.operators.mutation.pm import PM\n",
    "from pymoo.operators.repair.rounding import RoundingRepair\n",
    "from matplotlib.markers import MarkerStyle\n",
    "import math"
   ]
  },
  {
   "cell_type": "code",
   "execution_count": 241,
   "metadata": {},
   "outputs": [
    {
     "data": {
      "text/html": [
       "<div>\n",
       "<style scoped>\n",
       "    .dataframe tbody tr th:only-of-type {\n",
       "        vertical-align: middle;\n",
       "    }\n",
       "\n",
       "    .dataframe tbody tr th {\n",
       "        vertical-align: top;\n",
       "    }\n",
       "\n",
       "    .dataframe thead th {\n",
       "        text-align: right;\n",
       "    }\n",
       "</style>\n",
       "<table border=\"1\" class=\"dataframe\">\n",
       "  <thead>\n",
       "    <tr style=\"text-align: right;\">\n",
       "      <th></th>\n",
       "      <th>0</th>\n",
       "      <th>1</th>\n",
       "      <th>2</th>\n",
       "      <th>3</th>\n",
       "      <th>4</th>\n",
       "    </tr>\n",
       "  </thead>\n",
       "  <tbody>\n",
       "    <tr>\n",
       "      <th>0</th>\n",
       "      <td>inf</td>\n",
       "      <td>140.771726</td>\n",
       "      <td>86.141689</td>\n",
       "      <td>132.218716</td>\n",
       "      <td>180.377579</td>\n",
       "    </tr>\n",
       "    <tr>\n",
       "      <th>1</th>\n",
       "      <td>140.771726</td>\n",
       "      <td>inf</td>\n",
       "      <td>80.660747</td>\n",
       "      <td>25.862853</td>\n",
       "      <td>39.614337</td>\n",
       "    </tr>\n",
       "    <tr>\n",
       "      <th>2</th>\n",
       "      <td>86.141689</td>\n",
       "      <td>80.660747</td>\n",
       "      <td>inf</td>\n",
       "      <td>60.298902</td>\n",
       "      <td>116.087346</td>\n",
       "    </tr>\n",
       "    <tr>\n",
       "      <th>3</th>\n",
       "      <td>132.218716</td>\n",
       "      <td>25.862853</td>\n",
       "      <td>60.298902</td>\n",
       "      <td>inf</td>\n",
       "      <td>55.919286</td>\n",
       "    </tr>\n",
       "    <tr>\n",
       "      <th>4</th>\n",
       "      <td>180.377579</td>\n",
       "      <td>39.614337</td>\n",
       "      <td>116.087346</td>\n",
       "      <td>55.919286</td>\n",
       "      <td>inf</td>\n",
       "    </tr>\n",
       "  </tbody>\n",
       "</table>\n",
       "</div>"
      ],
      "text/plain": [
       "            0           1           2           3           4\n",
       "0         inf  140.771726   86.141689  132.218716  180.377579\n",
       "1  140.771726         inf   80.660747   25.862853   39.614337\n",
       "2   86.141689   80.660747         inf   60.298902  116.087346\n",
       "3  132.218716   25.862853   60.298902         inf   55.919286\n",
       "4  180.377579   39.614337  116.087346   55.919286         inf"
      ]
     },
     "execution_count": 241,
     "metadata": {},
     "output_type": "execute_result"
    },
    {
     "data": {
      "image/png": "[encoded data removed]",
      "text/plain": [
       "<Figure size 640x480 with 1 Axes>"
      ]
     },
     "metadata": {},
     "output_type": "display_data"
    }
   ],
   "source": [
    "# Edited version of Henry's code for importing a graph\n",
    "rnd = np.random\n",
    "rnd.seed(7)\n",
    "n = 5 # clients\n",
    "xc = rnd.rand(n)*200\n",
    "yc = rnd.rand(n)*100\n",
    "plt.scatter(xc,yc,c='b')\n",
    "# set of clients\n",
    "\n",
    "\n",
    "N = [i for i in range(1,n)]\n",
    "V = [0] + N\n",
    "# connecting every point to every point\n",
    "A = [(i,j) for i in V for j in V if i!=j]\n",
    "# Generating distances from each point\n",
    "c = {(i,j): np.hypot(xc[i]-xc[j],yc[i]-yc[j]) for i,j in A}\n",
    "c[(0,0)] = np.inf\n",
    "c[(1,1)] = np.inf\n",
    "c[(2,2)] = np.inf\n",
    "c[(3,3)] = np.inf\n",
    "c[(4,4)] = np.inf\n",
    "\n",
    "distances = [[c.get((i,j), 0) for j in range(5)] for i in range(5)]\n",
    "\n",
    "dist_matrix = pd.DataFrame(distances, columns=V, index=V)\n",
    "\n",
    "dist_matrix\n"
   ]
  },
  {
   "cell_type": "markdown",
   "metadata": {},
   "source": [
    "# Graph function"
   ]
  },
  {
   "cell_type": "code",
   "execution_count": null,
   "metadata": {},
   "outputs": [],
   "source": [
    "# This class controls all the information for how to set up and display the graph, \n",
    "#   so it displays the graph information and the pymoo optimizations\n",
    "class Graph: \n",
    "    # Code for showing the initial graph\n",
    "    # numN = number of nodes\n",
    "    # uppB = upperbounds of x\n",
    "    # lowB = lowerbounds of x\n",
    "    # precision = the decimal place the numbers will be to (ex: precision = 1 means that it will be to the tenths or .1 precision)\n",
    "    # seed = the random seed to ensure the results are repeatable\n",
    "    # costA = array of all the nodes cost (distance) to one another\n",
    "    # xc = x coordinates of locations\n",
    "    # yc = y coordinate of locations\n",
    "    def __init__(self, numN, uppB, lowB, precision, seedNum):\n",
    "        self.numN = numN\n",
    "        self.uppB = uppB\n",
    "        self.lowB = lowB\n",
    "        self.precision = precision\n",
    "        self.seedNum = seedNum\n",
    "        self.nodes = None\n",
    "        self.costA = None\n",
    "        self.xc = None\n",
    "        self.yc = None\n",
    "        self.connectivityMatrix=None\n",
    "        self.genNodes()\n",
    "        \n",
    "    \n",
    "    # displays the graph with the supplied informaion\n",
    "    # showEdges - boolean value used to determine if the graph with show connections or not\n",
    "    def showGraph(self):\n",
    "        #print(self.nodes) #remove this line at some point\n",
    "\n",
    "        rnd = np.random\n",
    "        rnd.seed(self.seedNum)\n",
    "\n",
    "        plt.scatter(xc,\n",
    "                    yc, \n",
    "                    s = 150,\n",
    "                    marker = MarkerStyle(\"o\"), \n",
    "                    facecolors='white', \n",
    "                    edgecolors='blue',\n",
    "                    zorder = 1)\n",
    "        \n",
    "        # Displays the ids of each node\n",
    "        for i in range (0, self.numN):\n",
    "               plt.text(xc[i], yc[i], i+1, horizontalalignment='center', verticalalignment='center')\n",
    "        \n",
    "        #for i in range(0, self.numN):\n",
    "        #    for j in range (0, self.numN):\n",
    "        #        plt.text(self.xc[i], self.yc[j], i+1, horizontalalignment='center', verticalalignment='center')\n",
    "\n",
    "        # prints out the the lines connecting the nodes\n",
    "        #I WAS HERE IN THE WORK MAKE THIS BETTER\n",
    "        #make it so the black line and cost print for every possible connection using the for loop below (make it a nested for loop -->for j in range(0, self.numN-1): \n",
    "        for i in range(0, self.numN-1):\n",
    "            plt.plot([self.xc[i], self.xc[i+1]], [self.yc[i], self.yc[i+1]], color = 'black', zorder = 0)\n",
    "\n",
    "            # Shows the cost of each connection\n",
    "            plt.text((self.xc[i]+self.xc[i+1])/2,(self.yc[i]+self.yc[i+1])/2, s=self.costA[i][i+1], horizontalalignment='center', verticalalignment='center', zorder = 3, color = 'green', bbox=dict(boxstyle='square', facecolor = 'white', edgecolor='black', zorder=2))\n",
    "\n",
    "    # displays the 2d arrays howing the costs between all the nodes\n",
    "    def showCost(self):\n",
    "        print(self.costA)\n",
    "        \n",
    "    # generates the random nodes, and calculates the cost (distance) \n",
    "    #   between every node in the graph and stores it in a 2D array\n",
    "    #   and then stores this information in nodes and costA respectively\n",
    "    # returns a np.array of the costs to each node\n",
    "    def genNodes(self):\n",
    "        \n",
    "        rnd = np.random\n",
    "        rnd.seed(self.seedNum)\n",
    "        xc = rnd.rand(self.numN)*200\n",
    "        yc = rnd.rand(self.numN)*100\n",
    "        self.xc = xc\n",
    "        self.yc = yc\n",
    "        #plt.scatter(xc,yc,c='b')\n",
    "        # set of clients\n",
    "\n",
    "        N = [i for i in range(1,self.numN)]\n",
    "        V = [0] + N\n",
    "        self.nodes = np.array(V)\n",
    "        # connecting every point to every point\n",
    "        A = [(i,j) for i in V for j in V if i!=j]\n",
    "        costArr = np.zeros((self.numN,self.numN))\n",
    "        # Generates cost between vertices\n",
    "        for i,j in A :\n",
    "            costArr[i][j] = np.hypot(xc[i]-xc[j],yc[i]-yc[j])\n",
    "            if (i==j):\n",
    "                costArr[i][j] = 0\n",
    "            costArr[i][j] = costArr[i][j].round(self.precision)\n",
    "\n",
    "        self.costA = costArr\n",
    "   \n",
    "    def set_connectivity(self, connection_order):\n",
    "\n",
    "        connectivityMatrix = np.full( ( self.numN, self.numN), 0)\n",
    "\n",
    "        previous = None\n",
    "        for i, connection in enumerate(connection_order):\n",
    "            if i == 0:\n",
    "                previous = connection\n",
    "            else:\n",
    "                connectivityMatrix[previous][connection] = i+1\n",
    "                previous = connection\n",
    "        self.connectivityMatrix = connectivityMatrix"
   ]
  },
  {
   "cell_type": "markdown",
   "metadata": {},
   "source": [
    "## This Block is to test the graph function without any pymoo input"
   ]
  },
  {
   "cell_type": "code",
   "execution_count": 243,
   "metadata": {},
   "outputs": [
    {
     "name": "stdout",
     "output_type": "stream",
     "text": [
      "[[  0.  140.8  86.1 132.2 180.4]\n",
      " [140.8   0.   80.7  25.9  39.6]\n",
      " [ 86.1  80.7   0.   60.3 116.1]\n",
      " [132.2  25.9  60.3   0.   55.9]\n",
      " [180.4  39.6 116.1  55.9   0. ]]\n"
     ]
    },
    {
     "data": {
      "image/png": "[encoded data removed]",
      "text/plain": [
       "<Figure size 640x480 with 1 Axes>"
      ]
     },
     "metadata": {},
     "output_type": "display_data"
    }
   ],
   "source": [
    "nNodes = 5\n",
    "uppB = 1\n",
    "lowB = 0\n",
    "precision = 1\n",
    "seedNum = 7\n",
    "gTest = Graph(nNodes, uppB, lowB, precision, seedNum)\n",
    "#gTest.showCost\n",
    "gTest.showGraph()\n",
    "gTest.showCost()"
   ]
  },
  {
   "cell_type": "code",
   "execution_count": 244,
   "metadata": {},
   "outputs": [],
   "source": [
    "#element wise problem looks at one solution at a time, normal problem would look at all problems at once\n",
    "class longestPath(ElementwiseProblem):\n",
    "    def __init__(self, graph): # initilization/constructor function\n",
    "\n",
    "        self.graph = graph\n",
    "        # n_var = number of connections, n_obj=?, n_ieq_constr=?, x1 = 1 (lowest node besides 0 as 0 can't conenct to itself), xu = highest node id (# nodes minus 1)\n",
    "        super().__init__(n_var=graph.numN, n_obj=1, n_ieq_constr=0, xl=0, xu=graph.numN-1)\n",
    "        \n",
    "\n",
    "    #x is a random solution or population to the problem, that is automatically created\n",
    "    def _evaluate(self, x, out, *args, **kwargs): \n",
    "        \n",
    "        #print(\"funny\")\n",
    "        #print(x)\n",
    "        self.graph.set_connectivity( x )\n",
    "        \n",
    "        # fills in the array with all the connection distances (when there is a connection (c=1), assign the length to the dist_matrix, otherwise mark the distance as 0 to show theres no connection)\n",
    "        dist_mask = np.array(np.where(self.graph.connectivityMatrix != 0, self.graph.costA, 0))\n",
    "        \n",
    "        \n",
    "        \n",
    "        \n",
    "        out[\"F\"] = -np.sum(dist_mask)\n",
    "        # out[\"G\"] = 0.1 - out[\"F\"]\n"
   ]
  },
  {
   "cell_type": "code",
   "execution_count": 245,
   "metadata": {},
   "outputs": [],
   "source": [
    "problem = longestPath(gTest)\n",
    "\n",
    "# take the best 1 out of the 2 generated solutions (pop_size) and use them to breed the next generation, this will happen for 10 (n_gen) generations\n",
    "algorithm = GA(\n",
    "    pop_size= 2,\n",
    "    sampling=IntegerRandomSampling(),\n",
    "    # how the solutions are passed onto each generations\n",
    "    crossover=SBX(prob=1.0, eta=3.0, vtype=float, repair=RoundingRepair()),\n",
    "    mutation=PM(prob=1.0, eta=3.0, vtype=float, repair=RoundingRepair()),\n",
    "    eliminate_duplicates=True)\n",
    "\n",
    "res = minimize(problem,\n",
    "            algorithm,\n",
    "            termination=('n_gen', 10),\n",
    "            seed=1,\n",
    "            save_history=True)"
   ]
  },
  {
   "cell_type": "code",
   "execution_count": 246,
   "metadata": {},
   "outputs": [
    {
     "name": "stdout",
     "output_type": "stream",
     "text": [
      "[2 0 1 0 4]\n"
     ]
    }
   ],
   "source": [
    "gTest.set_connectivity(res.X)\n",
    "print(res.X)\n"
   ]
  }
 ],
 "metadata": {
  "kernelspec": {
   "display_name": "base",
   "language": "python",
   "name": "python3"
  },
  "language_info": {
   "codemirror_mode": {
    "name": "ipython",
    "version": 3
   },
   "file_extension": ".py",
   "mimetype": "text/x-python",
   "name": "python",
   "nbconvert_exporter": "python",
   "pygments_lexer": "ipython3",
   "version": "3.11.5"
  }
 },
 "nbformat": 4,
 "nbformat_minor": 2
}
