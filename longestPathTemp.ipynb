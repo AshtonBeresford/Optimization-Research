{
 "cells": [
  {
   "cell_type": "markdown",
   "metadata": {},
   "source": [
    "#\\ - comments that should be delected at some point and should be looked into if they still remain in the code, possible represent future endeavors\n",
    "#comment - former or temp lines of code that are currently commented, either need to be deleted or uncommented to be used again at some point\n",
    "- #_comment - # comment - represents an actual comment that should stay in the code after finished, describes the code in some way or provides clarity\n"
   ]
  },
  {
   "cell_type": "code",
   "execution_count": 1161,
   "metadata": {},
   "outputs": [],
   "source": [
    "#import statements\n",
    "import numpy as np\n",
    "import matplotlib.pyplot as plt\n",
    "import pandas as pd\n",
    "from pymoo.core.problem import ElementwiseProblem\n",
    "from pymoo.algorithms.soo.nonconvex.ga import GA\n",
    "from pymoo.optimize import minimize\n",
    "from pymoo.visualization.scatter import Scatter\n",
    "from pymoo.operators.sampling.rnd import IntegerRandomSampling\n",
    "from pymoo.optimize import minimize\n",
    "from pymoo.constraints.as_penalty import ConstraintsAsPenalty\n",
    "from pymoo.operators.crossover.sbx import SBX\n",
    "from pymoo.operators.mutation.pm import PM\n",
    "from pymoo.operators.repair.rounding import RoundingRepair\n",
    "from matplotlib.markers import MarkerStyle"
   ]
  },
  {
   "cell_type": "code",
   "execution_count": 1162,
   "metadata": {},
   "outputs": [
    {
     "data": {
      "text/html": [
       "<div>\n",
       "<style scoped>\n",
       "    .dataframe tbody tr th:only-of-type {\n",
       "        vertical-align: middle;\n",
       "    }\n",
       "\n",
       "    .dataframe tbody tr th {\n",
       "        vertical-align: top;\n",
       "    }\n",
       "\n",
       "    .dataframe thead th {\n",
       "        text-align: right;\n",
       "    }\n",
       "</style>\n",
       "<table border=\"1\" class=\"dataframe\">\n",
       "  <thead>\n",
       "    <tr style=\"text-align: right;\">\n",
       "      <th></th>\n",
       "      <th>0</th>\n",
       "      <th>1</th>\n",
       "      <th>2</th>\n",
       "      <th>3</th>\n",
       "      <th>4</th>\n",
       "    </tr>\n",
       "  </thead>\n",
       "  <tbody>\n",
       "    <tr>\n",
       "      <th>0</th>\n",
       "      <td>inf</td>\n",
       "      <td>140.771726</td>\n",
       "      <td>86.141689</td>\n",
       "      <td>132.218716</td>\n",
       "      <td>180.377579</td>\n",
       "    </tr>\n",
       "    <tr>\n",
       "      <th>1</th>\n",
       "      <td>140.771726</td>\n",
       "      <td>inf</td>\n",
       "      <td>80.660747</td>\n",
       "      <td>25.862853</td>\n",
       "      <td>39.614337</td>\n",
       "    </tr>\n",
       "    <tr>\n",
       "      <th>2</th>\n",
       "      <td>86.141689</td>\n",
       "      <td>80.660747</td>\n",
       "      <td>inf</td>\n",
       "      <td>60.298902</td>\n",
       "      <td>116.087346</td>\n",
       "    </tr>\n",
       "    <tr>\n",
       "      <th>3</th>\n",
       "      <td>132.218716</td>\n",
       "      <td>25.862853</td>\n",
       "      <td>60.298902</td>\n",
       "      <td>inf</td>\n",
       "      <td>55.919286</td>\n",
       "    </tr>\n",
       "    <tr>\n",
       "      <th>4</th>\n",
       "      <td>180.377579</td>\n",
       "      <td>39.614337</td>\n",
       "      <td>116.087346</td>\n",
       "      <td>55.919286</td>\n",
       "      <td>inf</td>\n",
       "    </tr>\n",
       "  </tbody>\n",
       "</table>\n",
       "</div>"
      ],
      "text/plain": [
       "            0           1           2           3           4\n",
       "0         inf  140.771726   86.141689  132.218716  180.377579\n",
       "1  140.771726         inf   80.660747   25.862853   39.614337\n",
       "2   86.141689   80.660747         inf   60.298902  116.087346\n",
       "3  132.218716   25.862853   60.298902         inf   55.919286\n",
       "4  180.377579   39.614337  116.087346   55.919286         inf"
      ]
     },
     "execution_count": 1162,
     "metadata": {},
     "output_type": "execute_result"
    },
    {
     "data": {
      "image/png": "[encoded data removed]",
      "text/plain": [
       "<Figure size 640x480 with 1 Axes>"
      ]
     },
     "metadata": {},
     "output_type": "display_data"
    }
   ],
   "source": [
    "# Edited version of Henry's code for importing a graph\n",
    "rnd = np.random\n",
    "rnd.seed(7)\n",
    "n = 5 # clients\n",
    "xc = rnd.rand(n)*200\n",
    "yc = rnd.rand(n)*100\n",
    "plt.scatter(xc,yc,c='b')\n",
    "# set of clients\n",
    "\n",
    "\n",
    "N = [i for i in range(1,n)]\n",
    "V = [0] + N\n",
    "# connecting every point to every point\n",
    "A = [(i,j) for i in V for j in V if i!=j]\n",
    "# Generating distances from each point\n",
    "c = {(i,j): np.hypot(xc[i]-xc[j],yc[i]-yc[j]) for i,j in A}\n",
    "c[(0,0)] = np.inf\n",
    "c[(1,1)] = np.inf\n",
    "c[(2,2)] = np.inf\n",
    "c[(3,3)] = np.inf\n",
    "c[(4,4)] = np.inf\n",
    "\n",
    "distances = [[c.get((i,j), 0) for j in range(5)] for i in range(5)]\n",
    "\n",
    "dist_matrix = pd.DataFrame(distances, columns=V, index=V)\n",
    "\n",
    "dist_matrix\n"
   ]
  },
  {
   "cell_type": "markdown",
   "metadata": {},
   "source": [
    "# Graph function"
   ]
  },
  {
   "cell_type": "code",
   "execution_count": 1163,
   "metadata": {},
   "outputs": [],
   "source": [
    "# This class controls all the information for how to set up and display the graph, \n",
    "#   so it displays the graph information and the pymoo optimizations\n",
    "class Graph: \n",
    "    # Code for showing the initial graph\n",
    "    # numN = number of nodes\n",
    "    # uppB = upperbounds of x\n",
    "    # lowB = lowerbounds of x\n",
    "    # precision = the decimal place the numbers will be to (ex: precision = 1 means that it will be to the tenths or .1 precision)\n",
    "    # seed = the random seed to ensure the results are repeatable\n",
    "    # costA = array of all the nodes cost (distance) to one another\n",
    "    # xc = x coordinates of locations\n",
    "    # yc = y coordinate of locations\n",
    "    def __init__(self, numN, uppB, lowB, precision, seedNum):\n",
    "        self.numN = numN\n",
    "        self.uppB = uppB\n",
    "        self.lowB = lowB\n",
    "        self.precision = precision\n",
    "        self.seedNum = seedNum\n",
    "        self.nodes = None\n",
    "        self.costA = None\n",
    "        self.xc = None\n",
    "        self.yc = None\n",
    "        self.genNodes()\n",
    "        \n",
    "    \n",
    "    # displays the graph with the supplied informaion\n",
    "    # showEdges - boolean value used to determine if the graph with show connections or not\n",
    "    def showGraph(self, showEdges):\n",
    "        #print(self.nodes) #remove this line at some point\n",
    "\n",
    "        rnd = np.random\n",
    "        rnd.seed(self.seedNum)\n",
    "        xc = rnd.rand(self.numN)*200\n",
    "        yc = rnd.rand(self.numN)*100\n",
    "\n",
    "        plt.scatter(xc,\n",
    "                    yc, \n",
    "                    s = 150,\n",
    "                    marker = MarkerStyle(\"o\"), \n",
    "                    facecolors='white', \n",
    "                    edgecolors='blue',\n",
    "                    zorder = 1)\n",
    "        \n",
    "        # Displays the ids of each node\n",
    "        for i in self.nodes:\n",
    "            plt.text(xc[i], yc[i], i+1, horizontalalignment='center', verticalalignment='center')\n",
    "\n",
    "        # If True, then the graph shows its connections and the cost\n",
    "        if (showEdges == True):\n",
    "            #print('hahahahahahahahahaahaha not done yet')\n",
    "            for i in range(self.numN-1):\n",
    "                plt.plot([xc[i], xc[i+1]], [yc[i], yc[i+1]], color = 'black', zorder = 0)\n",
    "\n",
    "                # Shows the cost of each connection\n",
    "                plt.text((xc[i]+xc[i+1])/2,(yc[i]+yc[i+1])/2, s=self.costA[i][i+1], horizontalalignment='center', verticalalignment='center', zorder = 3, color = 'green', bbox=dict(boxstyle='square', facecolor = 'white', edgecolor='black', zorder=2))\n",
    "\n",
    "    # displays the 2d arrays howing the costs between all the nodes\n",
    "    def showCost(self):\n",
    "        print(self.costA)\n",
    "        \n",
    "    # generates the random nodes, and calculates the cost (distance) \n",
    "    #   between every node in the graph and stores it in a 2D array\n",
    "    #   and then stores this information in nodes and costA respectively\n",
    "    # returns a np.array of the costs to each node\n",
    "    def genNodes(self):\n",
    "        \n",
    "        rnd = np.random\n",
    "        rnd.seed(self.seedNum)\n",
    "        xc = rnd.rand(self.numN)*200\n",
    "        yc = rnd.rand(self.numN)*100\n",
    "        self.xc = xc\n",
    "        self.yc = yc\n",
    "        #plt.scatter(xc,yc,c='b')\n",
    "        # set of clients\n",
    "\n",
    "\n",
    "        N = [i for i in range(1,self.numN)]\n",
    "        V = [0] + N\n",
    "        self.nodes = np.array(V)\n",
    "        # connecting every point to every point\n",
    "        A = [(i,j) for i in V for j in V if i!=j]\n",
    "        costArr = np.zeros((self.numN,self.numN))\n",
    "        # Generates cost between vertices\n",
    "        for i,j in A :\n",
    "            costArr[i][j] = np.hypot(xc[i]-xc[j],yc[i]-yc[j])\n",
    "            if (i==j):\n",
    "                costArr[i][j] = 0\n",
    "            costArr[i][j] = costArr[i][j].round(self.precision)\n",
    "\n",
    "        self.costA = costArr\n",
    "\n",
    "        \n",
    "\n"
   ]
  },
  {
   "cell_type": "markdown",
   "metadata": {},
   "source": [
    "## This Block is to test the graph function without any pymoo input"
   ]
  },
  {
   "cell_type": "code",
   "execution_count": 1164,
   "metadata": {},
   "outputs": [
    {
     "name": "stdout",
     "output_type": "stream",
     "text": [
      "[[  0.  140.8  86.1 132.2 180.4]\n",
      " [140.8   0.   80.7  25.9  39.6]\n",
      " [ 86.1  80.7   0.   60.3 116.1]\n",
      " [132.2  25.9  60.3   0.   55.9]\n",
      " [180.4  39.6 116.1  55.9   0. ]]\n"
     ]
    },
    {
     "data": {
      "image/png": "[encoded data removed]",
      "text/plain": [
       "<Figure size 640x480 with 1 Axes>"
      ]
     },
     "metadata": {},
     "output_type": "display_data"
    }
   ],
   "source": [
    "nNodes = 5\n",
    "uppB = 1\n",
    "lowB = 0\n",
    "precision = 1\n",
    "seedNum = 7\n",
    "gTest = Graph(nNodes, uppB, lowB, precision, seedNum)\n",
    "#gTest.showCost\n",
    "gTest.showGraph(False)\n",
    "gTest.showCost()\n",
    "gTest.showGraph(True)"
   ]
  },
  {
   "cell_type": "code",
   "execution_count": 1165,
   "metadata": {},
   "outputs": [],
   "source": [
    "#element wise problem looks at one solution at a time, normal problem would look at all problems at once\n",
    "class longestPath(ElementwiseProblem):\n",
    "    def __init__(self, dist_matrix): # initilization/constructor function\n",
    "\n",
    "        self.dist_matrix=dist_matrix\n",
    "\n",
    "        # defines that diagnals (duplicates) can't be used in the algorithm\n",
    "        #Ask Dr. Kropp why the population isn't this - he's not sure, go back when he's available\n",
    "        #upper = np.array([[0,1,1,1,1], [0,0,1,1,1], [0,0,0,1,1], [0,0,0,0,1], [0,0,0,0,0]])\n",
    "        #print (upper)        \n",
    "        #upper=upper.reshape((25))\n",
    "        #print(upper)\n",
    "        #lower = np.array([[0,1,1,1,1], [0,0,1,1,1], [0,0,0,1,1], [0,0,0,0,1], [0,0,0,0,0]])\n",
    "        #lower=lower.reshape((25))\n",
    "        # n_var = number of connections, n_obj=?, n_ieq_constr=?, x1 = 1 (lowest node besides 0 as 0 can't conenct to itself), xu = highest node id (# nodes minus 1)\n",
    "        super().__init__(n_var=n-1, n_obj=1, n_ieq_constr=0, xl=1, xu=n-1)\n",
    "        \n",
    "\n",
    "    #x is a random solution or population to the problem, that is automatically created\n",
    "    def _evaluate(self, x, out, *args, **kwargs): \n",
    "        \n",
    "        # reshaping x to be a matrix of 5 by 5\n",
    "        #x = x.reshape ((5,5))\n",
    "        print(\"funny\")\n",
    "        print(x)\n",
    "        \n",
    "        # fills in the array with all the connection distances (when there is a connection (c=1), assign the length to the dist_matrix, otherwise mark the distance as 0 to show theres no connection)\n",
    "        dist_mask = np.array(np.where(x==1, self.dist_matrix, 0))\n",
    "        \n",
    "        \n",
    "        \n",
    "        \n",
    "        out[\"F\"] = -np.sum(dist_mask)\n",
    "        # out[\"G\"] = 0.1 - out[\"F\"]\n"
   ]
  },
  {
   "cell_type": "code",
   "execution_count": 1166,
   "metadata": {},
   "outputs": [
    {
     "name": "stdout",
     "output_type": "stream",
     "text": [
      "funny\n",
      "[2 1 4 4]\n"
     ]
    },
    {
     "ename": "ValueError",
     "evalue": "operands could not be broadcast together with shapes (4,) (5,5) () ",
     "output_type": "error",
     "traceback": [
      "\u001b[1;31m---------------------------------------------------------------------------\u001b[0m",
      "\u001b[1;31mValueError\u001b[0m                                Traceback (most recent call last)",
      "Cell \u001b[1;32mIn[1166], line 12\u001b[0m\n\u001b[0;32m      3\u001b[0m \u001b[38;5;66;03m# take the best 1 out of the 2 generated solutions (pop_size) and use them to breed the next generation, this will happen for 10 (n_gen) generations\u001b[39;00m\n\u001b[0;32m      4\u001b[0m algorithm \u001b[38;5;241m=\u001b[39m GA(\n\u001b[0;32m      5\u001b[0m     pop_size\u001b[38;5;241m=\u001b[39m \u001b[38;5;241m2\u001b[39m,\n\u001b[0;32m      6\u001b[0m     sampling\u001b[38;5;241m=\u001b[39mIntegerRandomSampling(),\n\u001b[1;32m   (...)\u001b[0m\n\u001b[0;32m      9\u001b[0m     mutation\u001b[38;5;241m=\u001b[39mPM(prob\u001b[38;5;241m=\u001b[39m\u001b[38;5;241m1.0\u001b[39m, eta\u001b[38;5;241m=\u001b[39m\u001b[38;5;241m3.0\u001b[39m, vtype\u001b[38;5;241m=\u001b[39m\u001b[38;5;28mfloat\u001b[39m, repair\u001b[38;5;241m=\u001b[39mRoundingRepair()),\n\u001b[0;32m     10\u001b[0m     eliminate_duplicates\u001b[38;5;241m=\u001b[39m\u001b[38;5;28;01mTrue\u001b[39;00m)\n\u001b[1;32m---> 12\u001b[0m res \u001b[38;5;241m=\u001b[39m minimize(problem,\n\u001b[0;32m     13\u001b[0m             algorithm,\n\u001b[0;32m     14\u001b[0m             termination\u001b[38;5;241m=\u001b[39m(\u001b[38;5;124m'\u001b[39m\u001b[38;5;124mn_gen\u001b[39m\u001b[38;5;124m'\u001b[39m, \u001b[38;5;241m10\u001b[39m),\n\u001b[0;32m     15\u001b[0m             seed\u001b[38;5;241m=\u001b[39m\u001b[38;5;241m1\u001b[39m,\n\u001b[0;32m     16\u001b[0m             save_history\u001b[38;5;241m=\u001b[39m\u001b[38;5;28;01mFalse\u001b[39;00m)\n",
      "File \u001b[1;32mc:\\Users\\beres\\anaconda3\\Lib\\site-packages\\pymoo\\optimize.py:67\u001b[0m, in \u001b[0;36mminimize\u001b[1;34m(problem, algorithm, termination, copy_algorithm, copy_termination, **kwargs)\u001b[0m\n\u001b[0;32m     64\u001b[0m     algorithm\u001b[38;5;241m.\u001b[39msetup(problem, \u001b[38;5;241m*\u001b[39m\u001b[38;5;241m*\u001b[39mkwargs)\n\u001b[0;32m     66\u001b[0m \u001b[38;5;66;03m# actually execute the algorithm\u001b[39;00m\n\u001b[1;32m---> 67\u001b[0m res \u001b[38;5;241m=\u001b[39m algorithm\u001b[38;5;241m.\u001b[39mrun()\n\u001b[0;32m     69\u001b[0m \u001b[38;5;66;03m# store the deep copied algorithm in the result object\u001b[39;00m\n\u001b[0;32m     70\u001b[0m res\u001b[38;5;241m.\u001b[39malgorithm \u001b[38;5;241m=\u001b[39m algorithm\n",
      "File \u001b[1;32mc:\\Users\\beres\\anaconda3\\Lib\\site-packages\\pymoo\\core\\algorithm.py:138\u001b[0m, in \u001b[0;36mAlgorithm.run\u001b[1;34m(self)\u001b[0m\n\u001b[0;32m    136\u001b[0m \u001b[38;5;28;01mdef\u001b[39;00m \u001b[38;5;21mrun\u001b[39m(\u001b[38;5;28mself\u001b[39m):\n\u001b[0;32m    137\u001b[0m     \u001b[38;5;28;01mwhile\u001b[39;00m \u001b[38;5;28mself\u001b[39m\u001b[38;5;241m.\u001b[39mhas_next():\n\u001b[1;32m--> 138\u001b[0m         \u001b[38;5;28mself\u001b[39m\u001b[38;5;241m.\u001b[39mnext()\n\u001b[0;32m    139\u001b[0m     \u001b[38;5;28;01mreturn\u001b[39;00m \u001b[38;5;28mself\u001b[39m\u001b[38;5;241m.\u001b[39mresult()\n",
      "File \u001b[1;32mc:\\Users\\beres\\anaconda3\\Lib\\site-packages\\pymoo\\core\\algorithm.py:158\u001b[0m, in \u001b[0;36mAlgorithm.next\u001b[1;34m(self)\u001b[0m\n\u001b[0;32m    156\u001b[0m \u001b[38;5;66;03m# call the advance with them after evaluation\u001b[39;00m\n\u001b[0;32m    157\u001b[0m \u001b[38;5;28;01mif\u001b[39;00m infills \u001b[38;5;129;01mis\u001b[39;00m \u001b[38;5;129;01mnot\u001b[39;00m \u001b[38;5;28;01mNone\u001b[39;00m:\n\u001b[1;32m--> 158\u001b[0m     \u001b[38;5;28mself\u001b[39m\u001b[38;5;241m.\u001b[39mevaluator\u001b[38;5;241m.\u001b[39meval(\u001b[38;5;28mself\u001b[39m\u001b[38;5;241m.\u001b[39mproblem, infills, algorithm\u001b[38;5;241m=\u001b[39m\u001b[38;5;28mself\u001b[39m)\n\u001b[0;32m    159\u001b[0m     \u001b[38;5;28mself\u001b[39m\u001b[38;5;241m.\u001b[39madvance(infills\u001b[38;5;241m=\u001b[39minfills)\n\u001b[0;32m    161\u001b[0m \u001b[38;5;66;03m# if the algorithm does not follow the infill-advance scheme just call advance\u001b[39;00m\n\u001b[0;32m    162\u001b[0m \u001b[38;5;28;01melse\u001b[39;00m:\n",
      "File \u001b[1;32mc:\\Users\\beres\\anaconda3\\Lib\\site-packages\\pymoo\\core\\evaluator.py:69\u001b[0m, in \u001b[0;36mEvaluator.eval\u001b[1;34m(self, problem, pop, skip_already_evaluated, evaluate_values_of, count_evals, **kwargs)\u001b[0m\n\u001b[0;32m     65\u001b[0m \u001b[38;5;66;03m# evaluate the solutions (if there are any)\u001b[39;00m\n\u001b[0;32m     66\u001b[0m \u001b[38;5;28;01mif\u001b[39;00m \u001b[38;5;28mlen\u001b[39m(I) \u001b[38;5;241m>\u001b[39m \u001b[38;5;241m0\u001b[39m:\n\u001b[0;32m     67\u001b[0m \n\u001b[0;32m     68\u001b[0m     \u001b[38;5;66;03m# do the actual evaluation - call the sub-function to set the corresponding values to the population\u001b[39;00m\n\u001b[1;32m---> 69\u001b[0m     \u001b[38;5;28mself\u001b[39m\u001b[38;5;241m.\u001b[39m_eval(problem, pop[I], evaluate_values_of, \u001b[38;5;241m*\u001b[39m\u001b[38;5;241m*\u001b[39mkwargs)\n\u001b[0;32m     71\u001b[0m \u001b[38;5;66;03m# update the function evaluation counter\u001b[39;00m\n\u001b[0;32m     72\u001b[0m \u001b[38;5;28;01mif\u001b[39;00m count_evals:\n",
      "File \u001b[1;32mc:\\Users\\beres\\anaconda3\\Lib\\site-packages\\pymoo\\core\\evaluator.py:90\u001b[0m, in \u001b[0;36mEvaluator._eval\u001b[1;34m(self, problem, pop, evaluate_values_of, **kwargs)\u001b[0m\n\u001b[0;32m     87\u001b[0m X \u001b[38;5;241m=\u001b[39m pop\u001b[38;5;241m.\u001b[39mget(\u001b[38;5;124m\"\u001b[39m\u001b[38;5;124mX\u001b[39m\u001b[38;5;124m\"\u001b[39m)\n\u001b[0;32m     89\u001b[0m \u001b[38;5;66;03m# call the problem to evaluate the solutions\u001b[39;00m\n\u001b[1;32m---> 90\u001b[0m out \u001b[38;5;241m=\u001b[39m problem\u001b[38;5;241m.\u001b[39mevaluate(X, return_values_of\u001b[38;5;241m=\u001b[39mevaluate_values_of, return_as_dictionary\u001b[38;5;241m=\u001b[39m\u001b[38;5;28;01mTrue\u001b[39;00m, \u001b[38;5;241m*\u001b[39m\u001b[38;5;241m*\u001b[39mkwargs)\n\u001b[0;32m     92\u001b[0m \u001b[38;5;66;03m# for each of the attributes set it to the problem\u001b[39;00m\n\u001b[0;32m     93\u001b[0m \u001b[38;5;28;01mfor\u001b[39;00m key, val \u001b[38;5;129;01min\u001b[39;00m out\u001b[38;5;241m.\u001b[39mitems():\n",
      "File \u001b[1;32mc:\\Users\\beres\\anaconda3\\Lib\\site-packages\\pymoo\\core\\problem.py:257\u001b[0m, in \u001b[0;36mProblem.evaluate\u001b[1;34m(self, X, return_values_of, return_as_dictionary, *args, **kwargs)\u001b[0m\n\u001b[0;32m    254\u001b[0m     only_single_value \u001b[38;5;241m=\u001b[39m \u001b[38;5;129;01mnot\u001b[39;00m (\u001b[38;5;28misinstance\u001b[39m(X, \u001b[38;5;28mlist\u001b[39m) \u001b[38;5;129;01mor\u001b[39;00m \u001b[38;5;28misinstance\u001b[39m(X, np\u001b[38;5;241m.\u001b[39mndarray))\n\u001b[0;32m    256\u001b[0m \u001b[38;5;66;03m# this is where the actual evaluation takes place\u001b[39;00m\n\u001b[1;32m--> 257\u001b[0m _out \u001b[38;5;241m=\u001b[39m \u001b[38;5;28mself\u001b[39m\u001b[38;5;241m.\u001b[39mdo(X, return_values_of, \u001b[38;5;241m*\u001b[39margs, \u001b[38;5;241m*\u001b[39m\u001b[38;5;241m*\u001b[39mkwargs)\n\u001b[0;32m    259\u001b[0m out \u001b[38;5;241m=\u001b[39m {}\n\u001b[0;32m    260\u001b[0m \u001b[38;5;28;01mfor\u001b[39;00m k, v \u001b[38;5;129;01min\u001b[39;00m _out\u001b[38;5;241m.\u001b[39mitems():\n\u001b[0;32m    261\u001b[0m \n\u001b[0;32m    262\u001b[0m     \u001b[38;5;66;03m# copy it to a numpy array (it might be one of jax at this point)\u001b[39;00m\n",
      "File \u001b[1;32mc:\\Users\\beres\\anaconda3\\Lib\\site-packages\\pymoo\\core\\problem.py:297\u001b[0m, in \u001b[0;36mProblem.do\u001b[1;34m(self, X, return_values_of, *args, **kwargs)\u001b[0m\n\u001b[0;32m    295\u001b[0m \u001b[38;5;66;03m# do the function evaluation\u001b[39;00m\n\u001b[0;32m    296\u001b[0m \u001b[38;5;28;01mif\u001b[39;00m \u001b[38;5;28mself\u001b[39m\u001b[38;5;241m.\u001b[39melementwise:\n\u001b[1;32m--> 297\u001b[0m     \u001b[38;5;28mself\u001b[39m\u001b[38;5;241m.\u001b[39m_evaluate_elementwise(X, out, \u001b[38;5;241m*\u001b[39margs, \u001b[38;5;241m*\u001b[39m\u001b[38;5;241m*\u001b[39mkwargs)\n\u001b[0;32m    298\u001b[0m \u001b[38;5;28;01melse\u001b[39;00m:\n\u001b[0;32m    299\u001b[0m     \u001b[38;5;28mself\u001b[39m\u001b[38;5;241m.\u001b[39m_evaluate_vectorized(X, out, \u001b[38;5;241m*\u001b[39margs, \u001b[38;5;241m*\u001b[39m\u001b[38;5;241m*\u001b[39mkwargs)\n",
      "File \u001b[1;32mc:\\Users\\beres\\anaconda3\\Lib\\site-packages\\pymoo\\core\\problem.py:315\u001b[0m, in \u001b[0;36mProblem._evaluate_elementwise\u001b[1;34m(self, X, out, *args, **kwargs)\u001b[0m\n\u001b[0;32m    312\u001b[0m f \u001b[38;5;241m=\u001b[39m \u001b[38;5;28mself\u001b[39m\u001b[38;5;241m.\u001b[39melementwise_func(\u001b[38;5;28mself\u001b[39m, args, kwargs)\n\u001b[0;32m    314\u001b[0m \u001b[38;5;66;03m# execute the runner\u001b[39;00m\n\u001b[1;32m--> 315\u001b[0m elems \u001b[38;5;241m=\u001b[39m \u001b[38;5;28mself\u001b[39m\u001b[38;5;241m.\u001b[39melementwise_runner(f, X)\n\u001b[0;32m    317\u001b[0m \u001b[38;5;66;03m# for each evaluation call\u001b[39;00m\n\u001b[0;32m    318\u001b[0m \u001b[38;5;28;01mfor\u001b[39;00m elem \u001b[38;5;129;01min\u001b[39;00m elems:\n\u001b[0;32m    319\u001b[0m \n\u001b[0;32m    320\u001b[0m     \u001b[38;5;66;03m# for each key stored for this evaluation\u001b[39;00m\n",
      "File \u001b[1;32mc:\\Users\\beres\\anaconda3\\Lib\\site-packages\\pymoo\\core\\problem.py:32\u001b[0m, in \u001b[0;36mLoopedElementwiseEvaluation.__call__\u001b[1;34m(self, f, X)\u001b[0m\n\u001b[0;32m     31\u001b[0m \u001b[38;5;28;01mdef\u001b[39;00m \u001b[38;5;21m__call__\u001b[39m(\u001b[38;5;28mself\u001b[39m, f, X):\n\u001b[1;32m---> 32\u001b[0m     \u001b[38;5;28;01mreturn\u001b[39;00m [f(x) \u001b[38;5;28;01mfor\u001b[39;00m x \u001b[38;5;129;01min\u001b[39;00m X]\n",
      "File \u001b[1;32mc:\\Users\\beres\\anaconda3\\Lib\\site-packages\\pymoo\\core\\problem.py:32\u001b[0m, in \u001b[0;36m<listcomp>\u001b[1;34m(.0)\u001b[0m\n\u001b[0;32m     31\u001b[0m \u001b[38;5;28;01mdef\u001b[39;00m \u001b[38;5;21m__call__\u001b[39m(\u001b[38;5;28mself\u001b[39m, f, X):\n\u001b[1;32m---> 32\u001b[0m     \u001b[38;5;28;01mreturn\u001b[39;00m [f(x) \u001b[38;5;28;01mfor\u001b[39;00m x \u001b[38;5;129;01min\u001b[39;00m X]\n",
      "File \u001b[1;32mc:\\Users\\beres\\anaconda3\\Lib\\site-packages\\pymoo\\core\\problem.py:25\u001b[0m, in \u001b[0;36mElementwiseEvaluationFunction.__call__\u001b[1;34m(self, x)\u001b[0m\n\u001b[0;32m     23\u001b[0m \u001b[38;5;28;01mdef\u001b[39;00m \u001b[38;5;21m__call__\u001b[39m(\u001b[38;5;28mself\u001b[39m, x):\n\u001b[0;32m     24\u001b[0m     out \u001b[38;5;241m=\u001b[39m \u001b[38;5;28mdict\u001b[39m()\n\u001b[1;32m---> 25\u001b[0m     \u001b[38;5;28mself\u001b[39m\u001b[38;5;241m.\u001b[39mproblem\u001b[38;5;241m.\u001b[39m_evaluate(x, out, \u001b[38;5;241m*\u001b[39m\u001b[38;5;28mself\u001b[39m\u001b[38;5;241m.\u001b[39margs, \u001b[38;5;241m*\u001b[39m\u001b[38;5;241m*\u001b[39m\u001b[38;5;28mself\u001b[39m\u001b[38;5;241m.\u001b[39mkwargs)\n\u001b[0;32m     26\u001b[0m     \u001b[38;5;28;01mreturn\u001b[39;00m out\n",
      "Cell \u001b[1;32mIn[1165], line 28\u001b[0m, in \u001b[0;36mlongestPath._evaluate\u001b[1;34m(self, x, out, *args, **kwargs)\u001b[0m\n\u001b[0;32m     25\u001b[0m \u001b[38;5;28mprint\u001b[39m(x)\n\u001b[0;32m     27\u001b[0m \u001b[38;5;66;03m# fills in the array with all the connection distances (when there is a connection (c=1), assign the length to the dist_matrix, otherwise mark the distance as 0 to show theres no connection)\u001b[39;00m\n\u001b[1;32m---> 28\u001b[0m dist_mask \u001b[38;5;241m=\u001b[39m np\u001b[38;5;241m.\u001b[39marray(np\u001b[38;5;241m.\u001b[39mwhere(x\u001b[38;5;241m==\u001b[39m\u001b[38;5;241m1\u001b[39m, \u001b[38;5;28mself\u001b[39m\u001b[38;5;241m.\u001b[39mdist_matrix, \u001b[38;5;241m0\u001b[39m))\n\u001b[0;32m     33\u001b[0m out[\u001b[38;5;124m\"\u001b[39m\u001b[38;5;124mF\u001b[39m\u001b[38;5;124m\"\u001b[39m] \u001b[38;5;241m=\u001b[39m \u001b[38;5;241m-\u001b[39mnp\u001b[38;5;241m.\u001b[39msum(dist_mask)\n",
      "File \u001b[1;32m<__array_function__ internals>:200\u001b[0m, in \u001b[0;36mwhere\u001b[1;34m(*args, **kwargs)\u001b[0m\n",
      "\u001b[1;31mValueError\u001b[0m: operands could not be broadcast together with shapes (4,) (5,5) () "
     ]
    }
   ],
   "source": [
    "problem = longestPath(dist_matrix)\n",
    "\n",
    "# take the best 1 out of the 2 generated solutions (pop_size) and use them to breed the next generation, this will happen for 10 (n_gen) generations\n",
    "algorithm = GA(\n",
    "    pop_size= 2,\n",
    "    sampling=IntegerRandomSampling(),\n",
    "    # how the solutions are passed onto each generations\n",
    "    crossover=SBX(prob=1.0, eta=3.0, vtype=float, repair=RoundingRepair()),\n",
    "    mutation=PM(prob=1.0, eta=3.0, vtype=float, repair=RoundingRepair()),\n",
    "    eliminate_duplicates=True)\n",
    "\n",
    "res = minimize(problem,\n",
    "            algorithm,\n",
    "            termination=('n_gen', 10),\n",
    "            seed=1,\n",
    "            save_history=False)"
   ]
  },
  {
   "cell_type": "code",
   "execution_count": 1160,
   "metadata": {},
   "outputs": [
    {
     "ename": "ValueError",
     "evalue": "cannot reshape array of size 5 into shape (5,5)",
     "output_type": "error",
     "traceback": [
      "\u001b[1;31m---------------------------------------------------------------------------\u001b[0m",
      "\u001b[1;31mValueError\u001b[0m                                Traceback (most recent call last)",
      "Cell \u001b[1;32mIn[1160], line 1\u001b[0m\n\u001b[1;32m----> 1\u001b[0m \u001b[38;5;28mprint\u001b[39m(res\u001b[38;5;241m.\u001b[39mX\u001b[38;5;241m.\u001b[39mreshape((\u001b[38;5;241m5\u001b[39m,\u001b[38;5;241m5\u001b[39m)))\n\u001b[0;32m      2\u001b[0m res\u001b[38;5;241m.\u001b[39mF\n\u001b[0;32m      4\u001b[0m rnd \u001b[38;5;241m=\u001b[39m np\u001b[38;5;241m.\u001b[39mrandom\n",
      "\u001b[1;31mValueError\u001b[0m: cannot reshape array of size 5 into shape (5,5)"
     ]
    }
   ],
   "source": [
    "print(res.X.reshape((5,5)))\n",
    "res.F\n",
    "\n",
    "rnd = np.random\n",
    "# Ensure that the randomly generated points can be reused\n",
    "rnd.seed(7)\n",
    "# sets the number of points to 5\n",
    "n = 5\n",
    "# generate points x values\n",
    "xc = rnd.rand(n)*200\n",
    "# generate points y values\n",
    "yc = rnd.rand(n)*100\n",
    "# plot points\n",
    "plt.scatter(xc[:],yc[:],c='b')\n",
    "matrixX = res.X.reshape((5,5))\n",
    "for i in range(matrixX.shape[0]):\n",
    "    for j in range(matrixX.shape[1]):\n",
    "        if matrixX[i, j] == 1:\n",
    "            plt.plot([xc[i], xc[j]], [yc[i], yc[j]], 'k-')\n"
   ]
  }
 ],
 "metadata": {
  "kernelspec": {
   "display_name": "base",
   "language": "python",
   "name": "python3"
  },
  "language_info": {
   "codemirror_mode": {
    "name": "ipython",
    "version": 3
   },
   "file_extension": ".py",
   "mimetype": "text/x-python",
   "name": "python",
   "nbconvert_exporter": "python",
   "pygments_lexer": "ipython3",
   "version": "3.11.5"
  }
 },
 "nbformat": 4,
 "nbformat_minor": 2
}
